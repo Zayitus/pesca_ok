{
  "nbformat": 4,
  "nbformat_minor": 0,
  "metadata": {
    "colab": {
      "provenance": []
    },
    "kernelspec": {
      "name": "python3",
      "display_name": "Python 3"
    },
    "language_info": {
      "name": "python"
    }
  },
  "cells": [
    {
      "cell_type": "markdown",
      "source": [
        "# Diccionario del Proyecto\n",
        "\n",
        "## Variables y Características\n",
        "\n",
        "### Variables Originales\n",
        "- `fecha`: Fecha del registro (mensual)\n",
        "- `total`: Total de desembarques pesqueros (toneladas)\n",
        "- `ushuaia`: Desembarques en puerto Ushuaia (toneladas)\n",
        "- `almanza`: Desembarques en puerto Almanza (toneladas)\n",
        "\n",
        "### Características Generadas\n",
        "\n",
        "#### Componentes Estacionales\n",
        "- `mes_num`: Número del mes (1-12)\n",
        "- `mes_sin`: Componente sinusoidal del mes (transformación cíclica)\n",
        "- `mes_cos`: Componente coseno del mes (transformación cíclica)\n",
        "\n",
        "#### Variables de Rezago\n",
        "- `lag_1`: Desembarque del mes anterior\n",
        "- `lag_2`: Desembarque de dos meses antes\n",
        "- `lag_3`: Desembarque de tres meses antes\n",
        "\n",
        "#### Estadísticas Móviles\n",
        "- `moving_avg_3`: Media móvil de 3 meses\n",
        "- `moving_std_3`: Desviación estándar móvil de 3 meses\n",
        "- `moving_max_3`: Máximo móvil de 3 meses\n",
        "- `moving_min_3`: Mínimo móvil de 3 meses\n",
        "\n",
        "#### Diferencias Temporales\n",
        "- `diff_1`: Diferencia con el mes anterior\n",
        "- `diff_12`: Diferencia con el mismo mes del año anterior\n",
        "\n",
        "#### Volatilidad\n",
        "- `egarch_vol`: Volatilidad condicional calculada por el modelo EGARCH\n",
        "\n",
        "## Modelos Utilizados\n",
        "\n",
        "### XGBoost\n",
        "Modelo base de gradient boosting para predicción de valores.\n",
        "- `n_estimators`: Número de árboles (500)\n",
        "- `learning_rate`: Tasa de aprendizaje (0.05)\n",
        "- `max_depth`: Profundidad máxima de árboles (5)\n",
        "- `min_child_weight`: Peso mínimo para nodos hijo (7)\n",
        "- `subsample`: Fracción de muestras para cada árbol (0.6)\n",
        "- `colsample_bytree`: Fracción de características por árbol (0.7)\n",
        "- `gamma`: Regularización gamma (0.1)\n",
        "\n",
        "### EGARCH\n",
        "Modelo para manejo de heteroscedasticidad condicional.\n",
        "- `mean='AR'`: Modelo autorregresivo para la media\n",
        "- `lags=3`: Rezagos autorregresivos\n",
        "- `vol='EGARCH'`: Modelo de volatilidad\n",
        "- `dist='t'`: Distribución t de Student para colas pesadas\n",
        "\n",
        "## Métricas de Evaluación\n",
        "- `RMSE`: Error cuadrático medio (Root Mean Square Error)\n",
        "- `R²`: Coeficiente de determinación\n",
        "- `MAE`: Error absoluto medio (Mean Absolute Error)\n",
        "- `Test Breusch-Pagan`: Test de heteroscedasticidad\n",
        "\n",
        "## Estructura de Directorios\n",
        "- `data/`: Directorio de datos\n",
        "  - `raw/`: Datos sin procesar\n",
        "  - `processed/`: Datos procesados\n",
        "- `models/`: Modelos entrenados\n",
        "- `notebooks/`: Jupyter notebooks\n",
        "- `references/`: Documentación y referencias\n",
        "- `reports/`: Informes y figuras\n",
        "\n"
      ],
      "metadata": {
        "id": "I5mnzwPSXLsS"
      }
    },
    {
      "cell_type": "code",
      "execution_count": null,
      "metadata": {
        "id": "mZkdsPqzXKs-"
      },
      "outputs": [],
      "source": []
    }
  ]
}